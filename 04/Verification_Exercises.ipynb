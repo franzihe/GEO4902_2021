{
 "cells": [
  {
   "cell_type": "code",
   "execution_count": 3,
   "metadata": {},
   "outputs": [],
   "source": [
    "import pandas as pd \n",
    "import math\n",
    "import numpy as np\n",
    "from matplotlib import pyplot as plt\n",
    "from sklearn.metrics import mean_squared_error\n",
    "from math import sqrt"
   ]
  },
  {
   "cell_type": "code",
   "execution_count": 4,
   "metadata": {},
   "outputs": [],
   "source": [
    "st1_temp = pd.read_csv(\"https://raw.githubusercontent.com/maltemuellerm/GEO4902_2021/master/04/data/99735temp.csv\")                 \n",
    "st2_temp = pd.read_csv(\"https://raw.githubusercontent.com/maltemuellerm/GEO4902_2021/master/04/data/99754temp.csv\")\n",
    "st1_wind = pd.read_csv(\"https://raw.githubusercontent.com/maltemuellerm/GEO4902_2021/master/04/data/99735wind.csv\")                 \n",
    "st2_wind = pd.read_csv(\"https://raw.githubusercontent.com/maltemuellerm/GEO4902_2021/master/04/data/99754wind.csv\") "
   ]
  },
  {
   "cell_type": "code",
   "execution_count": null,
   "metadata": {},
   "outputs": [],
   "source": []
  }
 ],
 "metadata": {
  "kernelspec": {
   "display_name": "Python 3",
   "language": "python",
   "name": "python3"
  },
  "language_info": {
   "codemirror_mode": {
    "name": "ipython",
    "version": 3
   },
   "file_extension": ".py",
   "mimetype": "text/x-python",
   "name": "python",
   "nbconvert_exporter": "python",
   "pygments_lexer": "ipython3",
   "version": "3.6.9"
  }
 },
 "nbformat": 4,
 "nbformat_minor": 2
}
